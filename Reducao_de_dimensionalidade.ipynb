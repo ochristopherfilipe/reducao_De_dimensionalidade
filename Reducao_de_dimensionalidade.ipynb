{
  "nbformat": 4,
  "nbformat_minor": 0,
  "metadata": {
    "colab": {
      "provenance": []
    },
    "kernelspec": {
      "name": "python3",
      "display_name": "Python 3"
    },
    "language_info": {
      "name": "python"
    }
  },
  "cells": [
    {
      "cell_type": "code",
      "execution_count": 23,
      "metadata": {
        "id": "CXgMX7rv97_E"
      },
      "outputs": [],
      "source": [
        "import os\n",
        "import PIL.Image\n",
        "\n",
        "# Cria as imagens\n",
        "def converter_imagens(image_path):\n",
        "    # Abre a imagem\n",
        "    image = PIL.Image.open(image_path)\n",
        "\n",
        "    # Converte a imagem para tons de cinza\n",
        "    image_grayscale = image.convert(\"L\")\n",
        "\n",
        "    # Salva a imagem em tons de cinza\n",
        "    image_grayscale.save(os.path.join(\"imagens\", \"imagem_grayscale.jpg\"))\n",
        "\n",
        "    # Converte a imagem para preto e branco\n",
        "    image_binary = image.convert(\"1\")\n",
        "\n",
        "    # Salva a imagem em preto e branco\n",
        "    image_binary.save(os.path.join(\"imagens\", \"imagem_binary.jpg\"))\n",
        "\n",
        "\n",
        "# Obtém o caminho da imagem\n",
        "image_path = \"/content/_MG_0020 (1).jpg\"\n",
        "\n",
        "# Executa o código\n",
        "converter_imagens(image_path)\n"
      ]
    },
    {
      "cell_type": "code",
      "source": [],
      "metadata": {
        "id": "qZprcdsHDrjy"
      },
      "execution_count": null,
      "outputs": []
    }
  ]
}